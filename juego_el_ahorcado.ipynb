{
 "cells": [
  {
   "cell_type": "code",
   "execution_count": 1,
   "id": "830c57fc",
   "metadata": {},
   "outputs": [],
   "source": [
    "# empiezamos importanto 'random' libreria\n",
    "\n",
    "import random"
   ]
  },
  {
   "cell_type": "code",
   "execution_count": 24,
   "id": "7d33a7f0",
   "metadata": {},
   "outputs": [
    {
     "name": "stdout",
     "output_type": "stream",
     "text": [
      "\n",
      "      +---+\n",
      "      |   |\n",
      "          |\n",
      "          |\n",
      "          |\n",
      "          |\n",
      "    ---------\n",
      "\n",
      "      +---+\n",
      "      |   |\n",
      "      O   |\n",
      "          |\n",
      "          |\n",
      "          |\n",
      "    ---------\n",
      "\n",
      "      +---+\n",
      "      |   |\n",
      "      O   |\n",
      "      |   |\n",
      "          |\n",
      "          |\n",
      "    ---------\n",
      "\n",
      "      +---+\n",
      "      |   |\n",
      "      O   |\n",
      "     -|   |\n",
      "          |\n",
      "          |\n",
      "    ---------\n",
      "\n",
      "      +---+\n",
      "      |   |\n",
      "      O   |\n",
      "     -|-  |\n",
      "          |\n",
      "          |\n",
      "    ---------\n",
      "\n",
      "      +---+\n",
      "      |   |\n",
      "      O   |\n",
      "     -|-  |\n",
      "     -    |\n",
      "          |\n",
      "    ---------\n",
      "\n",
      "      +---+\n",
      "      |   |\n",
      "      O   |\n",
      "     -|-  |\n",
      "     - -  |\n",
      "          |\n",
      "    ---------\n"
     ]
    }
   ],
   "source": [
    "# crear una lista para guardar cada etapa del juego como un elemento de una lista (intento)\n",
    "# cuando el jugador falle un intento se muestra uno a uno el progreso del juego (cada elemento)\n",
    "\n",
    "dibujo_ahorcado = ['''\n",
    "      +---+\n",
    "      |   |\n",
    "          |\n",
    "          |\n",
    "          |\n",
    "          |\n",
    "    ---------''', '''\n",
    "      +---+\n",
    "      |   |\n",
    "      O   |\n",
    "          |\n",
    "          |\n",
    "          |\n",
    "    ---------''', '''\n",
    "      +---+\n",
    "      |   |\n",
    "      O   |\n",
    "      |   |\n",
    "          |\n",
    "          |\n",
    "    ---------''', '''\n",
    "      +---+\n",
    "      |   |\n",
    "      O   |\n",
    "     -|   |\n",
    "          |\n",
    "          |\n",
    "    ---------''', '''\n",
    "      +---+\n",
    "      |   |\n",
    "      O   |\n",
    "     -|-  |\n",
    "          |\n",
    "          |\n",
    "    ---------''', '''\n",
    "      +---+\n",
    "      |   |\n",
    "      O   |\n",
    "     -|-  |\n",
    "     -    |\n",
    "          |\n",
    "    ---------''', '''\n",
    "      +---+\n",
    "      |   |\n",
    "      O   |\n",
    "     -|-  |\n",
    "     - -  |\n",
    "          |\n",
    "    ---------''']\n",
    "\n",
    "for i in dibujo_ahorcado:\n",
    "    print(i)"
   ]
  },
  {
   "cell_type": "code",
   "execution_count": 19,
   "id": "12694f03",
   "metadata": {},
   "outputs": [],
   "source": [
    "# En primer lugar compite con la computadora\n",
    "# Tarea 1: Empiezamos por seleccionar una palabra secreta para que el jugador adivinador intente adivinar\n",
    "# Creamos una lista de palabras\n",
    "\n",
    "palabra_secreta = ['data', 'gato', 'dato', 'playa', 'algoritmo', 'videojuego']"
   ]
  },
  {
   "cell_type": "code",
   "execution_count": 20,
   "id": "bde34090",
   "metadata": {},
   "outputs": [],
   "source": [
    "# Tarea 2: Inicializa el tablero de juego con guiones bajos (\"_\") para representar las letras no adivinadas\n",
    "# Creamos la funcion 'muestra_tablero' para guardar todas las condicionales para mostrar la palabra random\n",
    "\n",
    "def tablero():\n",
    "    palabra = random.choice(palabra_secreta).lower()\n",
    "    tablero = ['_'] * len(palabra)\n",
    "    return tablero, []"
   ]
  },
  {
   "cell_type": "code",
   "execution_count": 21,
   "id": "fdb63c81",
   "metadata": {},
   "outputs": [
    {
     "data": {
      "text/plain": [
       "(['_', '_', '_', '_'], [])"
      ]
     },
     "execution_count": 21,
     "metadata": {},
     "output_type": "execute_result"
    }
   ],
   "source": [
    "tablero()"
   ]
  },
  {
   "cell_type": "code",
   "execution_count": 25,
   "id": "d309ad06",
   "metadata": {},
   "outputs": [],
   "source": [
    "# llevar el score\n",
    "palabra_secreta = ['data', 'gato', 'dato', 'playa', 'algoritmo', 'videojuego']\n",
    "max_errores = 6\n",
    "letras_usadas = []\n",
    "errores = 0\n",
    "\n",
    "def mostrar_estado_juego(tablero, letras_usadas, errores, max_errores, dibujo_ahorcado):\n",
    "    print(dibujo_ahorcado[errores])\n",
    "    print(\"Palabra:\", \" \".join(tablero))\n",
    "    print(\"Letras usadas:\", \", \".join(letras_usadas))\n",
    "    print(f\"Errores: {errores} de {max_errores}\")\n",
    "    print()"
   ]
  },
  {
   "cell_type": "code",
   "execution_count": 26,
   "id": "4cfc4c5e",
   "metadata": {},
   "outputs": [
    {
     "ename": "TypeError",
     "evalue": "mostrar_estado_juego() missing 5 required positional arguments: 'tablero', 'letras_usadas', 'errores', 'max_errores', and 'dibujo_ahorcado'",
     "output_type": "error",
     "traceback": [
      "\u001b[1;31m---------------------------------------------------------------------------\u001b[0m",
      "\u001b[1;31mTypeError\u001b[0m                                 Traceback (most recent call last)",
      "Cell \u001b[1;32mIn[26], line 1\u001b[0m\n\u001b[1;32m----> 1\u001b[0m mostrar_estado_juego()\n",
      "\u001b[1;31mTypeError\u001b[0m: mostrar_estado_juego() missing 5 required positional arguments: 'tablero', 'letras_usadas', 'errores', 'max_errores', and 'dibujo_ahorcado'"
     ]
    }
   ],
   "source": [
    "mostrar_estado_juego()"
   ]
  },
  {
   "cell_type": "code",
   "execution_count": null,
   "id": "10e2bbc8",
   "metadata": {},
   "outputs": [],
   "source": [
    "# actualizar el tablero\n",
    "\n",
    "def actualizar_tablero(tablero, palabra, letra):\n",
    "    for indice, letra_palabra in enumerate(palabra):\n",
    "        if letra_palabra == letra:\n",
    "            tablero[indice] = letra"
   ]
  },
  {
   "cell_type": "code",
   "execution_count": 2,
   "id": "2071bb34",
   "metadata": {},
   "outputs": [
    {
     "name": "stdout",
     "output_type": "stream",
     "text": [
      "¡Felicidades, ganaste!\n"
     ]
    }
   ],
   "source": [
    "palabra_secreta = ['data', 'gato', 'dato', 'playa', 'algoritmo', 'videojuego']\n",
    "max_errores = 6\n",
    "letras_usadas = []\n",
    "errores = 0\n",
    "\n",
    "def tablero():\n",
    "    palabra = random.choice(palabra_secreta).lower()\n",
    "    tablero = ['_'] * len(palabra)\n",
    "    return tablero, []\n",
    "\n",
    "def mostrar_estado_juego(tablero, letras_usadas, errores, max_errores, dibujo_ahorcado):\n",
    "    print(dibujo_ahorcado[errores])\n",
    "    print(\"Palabra:\", \" \".join(tablero))\n",
    "    print(\"Letras usadas:\", \", \".join(letras_usadas))\n",
    "    print(f\"Errores: {errores} de {max_errores}\")\n",
    "    print()\n",
    "\n",
    "def actualizar_tablero(tablero, palabra, letra):\n",
    "    for indice, letra_palabra in enumerate(palabra):\n",
    "        if letra_palabra == letra:\n",
    "            tablero[indice] = letra\n",
    "\n",
    "while errores < max_errores and '_' in tablero():\n",
    "    mostrar_estado_juego()  # Muestra estado actual\n",
    "    letra = input(\"Elige una letra: \").lower()  # Pedir letra y pasar a minúscula\n",
    "    if 'a' <= letra <= 'z' and len(letra) == 1 and letra not in letras_usadas:\n",
    "        letras_usadas.append(letra)  # Guardar la letra usada\n",
    "        if letra in palabra:\n",
    "            # Actualizar el tablero reemplazando '_' por la letra en las posiciones correctas\n",
    "            actualizar_tablero\n",
    "        else:\n",
    "            errores += 1  # Sumar error si la letra no está en la palabra\n",
    "    else:\n",
    "        print(\"Debes elegir solo una letra entre a y z que no hayas usado antes.\")\n",
    "# Fuera del while, determinar si ganaste o perdiste\n",
    "if '_' not in tablero():\n",
    "    print(\"¡Felicidades, ganaste!\")\n",
    "else:\n",
    "    print(\"Perdiste. La palabra era:\", palabra)\n",
    "    "
   ]
  },
  {
   "cell_type": "code",
   "execution_count": null,
   "id": "15f719ad",
   "metadata": {},
   "outputs": [
    {
     "data": {
      "text/plain": [
       "(['_', '_', '_', '_'], [])"
      ]
     },
     "execution_count": 12,
     "metadata": {},
     "output_type": "execute_result"
    }
   ],
   "source": [
    "tablero()"
   ]
  },
  {
   "cell_type": "code",
   "execution_count": null,
   "id": "93379427",
   "metadata": {},
   "outputs": [
    {
     "ename": "NameError",
     "evalue": "name 'palabra' is not defined",
     "output_type": "error",
     "traceback": [
      "\u001b[1;31m---------------------------------------------------------------------------\u001b[0m",
      "\u001b[1;31mNameError\u001b[0m                                 Traceback (most recent call last)",
      "Cell \u001b[1;32mIn[13], line 9\u001b[0m\n\u001b[0;32m      6\u001b[0m contador \u001b[38;5;241m=\u001b[39m \u001b[38;5;241m0\u001b[39m\n\u001b[0;32m      7\u001b[0m letras_usadas \u001b[38;5;241m=\u001b[39m []\n\u001b[1;32m----> 9\u001b[0m \u001b[38;5;28;01mwhile\u001b[39;00m intentos \u001b[38;5;241m!=\u001b[39m palabra \u001b[38;5;129;01mand\u001b[39;00m contador \u001b[38;5;241m<\u001b[39m \u001b[38;5;241m6\u001b[39m:\n\u001b[0;32m     10\u001b[0m     intentos \u001b[38;5;241m=\u001b[39m \u001b[38;5;28mstr\u001b[39m(\u001b[38;5;28minput\u001b[39m(\u001b[38;5;124m'\u001b[39m\u001b[38;5;124mAdivina la palabra: \u001b[39m\u001b[38;5;124m'\u001b[39m)\u001b[38;5;241m.\u001b[39mlower())\n\u001b[0;32m     12\u001b[0m     \u001b[38;5;28;01mif\u001b[39;00m intentos \u001b[38;5;241m!=\u001b[39m palabra \u001b[38;5;129;01mand\u001b[39;00m contador \u001b[38;5;241m<\u001b[39m \u001b[38;5;241m6\u001b[39m:\n",
      "\u001b[1;31mNameError\u001b[0m: name 'palabra' is not defined"
     ]
    }
   ],
   "source": [
    "# Utiliza un bucle while para permitir que el jugador adivinador haga múltiples intentos hasta que adivine la palabra \n",
    "# o se agoten los intentos\n",
    "\n",
    "palabra_secreta = ['data', 'gato', 'dato', 'playa', 'algoritmo', 'videojuego']\n",
    "intentos = ''\n",
    "contador = 0\n",
    "letras_usadas = []\n",
    "\n",
    "while intentos != palabra and contador < 6:\n",
    "    intentos = str(input('Adivina la palabra: ').lower())\n",
    "\n",
    "    if intentos != palabra and contador < 6:\n",
    "        print('Intenta de nuevo')\n",
    "        contador += 1\n",
    "    else:\n",
    "        print('Correcto! Adivinaste la palabra')\n",
    "\n",
    "    if contador == 6:\n",
    "        print('Lo siento, perdiste todos los intentos')\n",
    "        break"
   ]
  }
 ],
 "metadata": {
  "kernelspec": {
   "display_name": "base",
   "language": "python",
   "name": "python3"
  },
  "language_info": {
   "codemirror_mode": {
    "name": "ipython",
    "version": 3
   },
   "file_extension": ".py",
   "mimetype": "text/x-python",
   "name": "python",
   "nbconvert_exporter": "python",
   "pygments_lexer": "ipython3",
   "version": "3.12.7"
  }
 },
 "nbformat": 4,
 "nbformat_minor": 5
}
