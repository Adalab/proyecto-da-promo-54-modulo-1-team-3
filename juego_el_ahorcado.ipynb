{
 "cells": [
  {
   "cell_type": "code",
   "execution_count": 8,
   "id": "830c57fc",
   "metadata": {},
   "outputs": [],
   "source": [
    "# empiezamos importanto 'random' libreria\n",
    "\n",
    "import random"
   ]
  },
  {
   "cell_type": "code",
   "execution_count": 9,
   "id": "7d33a7f0",
   "metadata": {},
   "outputs": [
    {
     "name": "stdout",
     "output_type": "stream",
     "text": [
      "\n",
      "      +---+\n",
      "      |   |\n",
      "          |\n",
      "          |\n",
      "          |\n",
      "          |\n",
      "    ---------\n",
      "\n",
      "      +---+\n",
      "      |   |\n",
      "      O   |\n",
      "          |\n",
      "          |\n",
      "          |\n",
      "    ---------\n",
      "\n",
      "      +---+\n",
      "      |   |\n",
      "      O   |\n",
      "      |   |\n",
      "          |\n",
      "          |\n",
      "    ---------\n",
      "\n",
      "      +---+\n",
      "      |   |\n",
      "      O   |\n",
      "     -|   |\n",
      "          |\n",
      "          |\n",
      "    ---------\n",
      "\n",
      "      +---+\n",
      "      |   |\n",
      "      O   |\n",
      "     -|-  |\n",
      "          |\n",
      "          |\n",
      "    ---------\n",
      "\n",
      "      +---+\n",
      "      |   |\n",
      "      O   |\n",
      "     -|-  |\n",
      "     -    |\n",
      "          |\n",
      "    ---------\n",
      "\n",
      "      +---+\n",
      "      |   |\n",
      "      O   |\n",
      "     -|-  |\n",
      "     - -  |\n",
      "          |\n",
      "    ---------\n"
     ]
    }
   ],
   "source": [
    "# crear una lista para guardar cada etapa del juego como un elemento de una lista (intento)\n",
    "# cuando el jugador falle un intento se muestra uno a uno el progreso del juego (cada elemento)\n",
    "\n",
    "ahorcado = ['''\n",
    "      +---+\n",
    "      |   |\n",
    "          |\n",
    "          |\n",
    "          |\n",
    "          |\n",
    "    ---------''', '''\n",
    "      +---+\n",
    "      |   |\n",
    "      O   |\n",
    "          |\n",
    "          |\n",
    "          |\n",
    "    ---------''', '''\n",
    "      +---+\n",
    "      |   |\n",
    "      O   |\n",
    "      |   |\n",
    "          |\n",
    "          |\n",
    "    ---------''', '''\n",
    "      +---+\n",
    "      |   |\n",
    "      O   |\n",
    "     -|   |\n",
    "          |\n",
    "          |\n",
    "    ---------''', '''\n",
    "      +---+\n",
    "      |   |\n",
    "      O   |\n",
    "     -|-  |\n",
    "          |\n",
    "          |\n",
    "    ---------''', '''\n",
    "      +---+\n",
    "      |   |\n",
    "      O   |\n",
    "     -|-  |\n",
    "     -    |\n",
    "          |\n",
    "    ---------''', '''\n",
    "      +---+\n",
    "      |   |\n",
    "      O   |\n",
    "     -|-  |\n",
    "     - -  |\n",
    "          |\n",
    "    ---------''']\n",
    "\n",
    "for i in ahorcado:\n",
    "    print(i)"
   ]
  },
  {
   "cell_type": "code",
   "execution_count": 10,
   "id": "12694f03",
   "metadata": {},
   "outputs": [],
   "source": [
    "# En primer lugar compite con la computadora\n",
    "# Tarea 1: Empiezamos por seleccionar una palabra secreta para que el jugador adivinador intente adivinar\n",
    "# Creamos una lista de palabras\n",
    "\n",
    "palabra_secreta = ['data', 'gato', 'dato', 'playa', 'algoritmo', 'videojuego']"
   ]
  },
  {
   "cell_type": "code",
   "execution_count": 11,
   "id": "bde34090",
   "metadata": {},
   "outputs": [],
   "source": [
    "# Tarea 2: Inicializa el tablero de juego con guiones bajos (\"_\") para representar las letras no adivinadas\n",
    "# Creamos la funcion 'muestra_tablero' para guardar todas las condicionales para mostrar la palabra random\n",
    "\n",
    "palabra_random = random.choice(palabra_secreta)\n",
    "\n",
    "def muestra_tablero():\n",
    "      for i in palabra_random:\n",
    "        espacio1 = '_' * len(i)\n",
    "        print(espacio1, end=\" \")"
   ]
  },
  {
   "cell_type": "code",
   "execution_count": 12,
   "id": "fdb63c81",
   "metadata": {},
   "outputs": [
    {
     "name": "stdout",
     "output_type": "stream",
     "text": [
      "_ _ _ _ _ _ _ _ _ _ "
     ]
    }
   ],
   "source": [
    "muestra_tablero()"
   ]
  }
 ],
 "metadata": {
  "kernelspec": {
   "display_name": "base",
   "language": "python",
   "name": "python3"
  },
  "language_info": {
   "codemirror_mode": {
    "name": "ipython",
    "version": 3
   },
   "file_extension": ".py",
   "mimetype": "text/x-python",
   "name": "python",
   "nbconvert_exporter": "python",
   "pygments_lexer": "ipython3",
   "version": "3.12.7"
  }
 },
 "nbformat": 4,
 "nbformat_minor": 5
}
