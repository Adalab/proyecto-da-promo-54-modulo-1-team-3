{
 "cells": [
  {
   "cell_type": "code",
   "execution_count": 12,
   "id": "7a73a383",
   "metadata": {},
   "outputs": [],
   "source": [
    "import random"
   ]
  },
  {
   "cell_type": "code",
   "execution_count": 13,
   "id": "398e749e",
   "metadata": {},
   "outputs": [],
   "source": [
    "puntos_objetivo = 3 # Definimos cuántos puntos se necesitan para ganar"
   ]
  },
  {
   "cell_type": "code",
   "execution_count": 14,
   "id": "dbad5129",
   "metadata": {},
   "outputs": [],
   "source": [
    "def obtener_eleccion_jugador(): # Función para obtener y validar la elección del jugador\n",
    "    while True:\n",
    "        elección = input(\"Elige Piedra, Papel o Tijera: \").strip().lower()\n",
    "        if elección in ['piedra', 'papel', 'tijera']:\n",
    "            return elección\n",
    "        else:\n",
    "            print(\"Opción no válida. Intenta de nuevo.\")"
   ]
  },
  {
   "cell_type": "code",
   "execution_count": 15,
   "id": "01ad9655",
   "metadata": {},
   "outputs": [],
   "source": [
    "puntos_jugador = 0 # Puntos iniciales de cada jugador\n",
    "puntos_computadora = 0"
   ]
  },
  {
   "cell_type": "code",
   "execution_count": 16,
   "id": "1e04c7e8",
   "metadata": {},
   "outputs": [
    {
     "name": "stdout",
     "output_type": "stream",
     "text": [
      "Puntos - Tú: 0 | Computadora: 0\n",
      "Tú elegiste: Piedra | Computadora eligió: Papel\n"
     ]
    },
    {
     "ename": "NameError",
     "evalue": "name 'determinar_ganador' is not defined",
     "output_type": "error",
     "traceback": [
      "\u001b[31m---------------------------------------------------------------------------\u001b[39m",
      "\u001b[31mNameError\u001b[39m                                 Traceback (most recent call last)",
      "\u001b[36mCell\u001b[39m\u001b[36m \u001b[39m\u001b[32mIn[16]\u001b[39m\u001b[32m, line 10\u001b[39m\n\u001b[32m      6\u001b[39m computadora = random.choice([\u001b[33m\"\u001b[39m\u001b[33mpiedra\u001b[39m\u001b[33m\"\u001b[39m, \u001b[33m\"\u001b[39m\u001b[33mpapel\u001b[39m\u001b[33m\"\u001b[39m, \u001b[33m\"\u001b[39m\u001b[33mtijera\u001b[39m\u001b[33m\"\u001b[39m])  \u001b[38;5;66;03m# 4. Elección aleatoria\u001b[39;00m\n\u001b[32m      8\u001b[39m \u001b[38;5;28mprint\u001b[39m(\u001b[33mf\u001b[39m\u001b[33m\"\u001b[39m\u001b[33mTú elegiste: \u001b[39m\u001b[38;5;132;01m{\u001b[39;00mjugador.capitalize()\u001b[38;5;132;01m}\u001b[39;00m\u001b[33m | Computadora eligió: \u001b[39m\u001b[38;5;132;01m{\u001b[39;00mcomputadora.capitalize()\u001b[38;5;132;01m}\u001b[39;00m\u001b[33m\"\u001b[39m)\n\u001b[32m---> \u001b[39m\u001b[32m10\u001b[39m resultado = determinar_ganador(jugador, computadora)\n\u001b[32m     12\u001b[39m \u001b[38;5;28;01mif\u001b[39;00m resultado == \u001b[33m\"\u001b[39m\u001b[33mempate\u001b[39m\u001b[33m\"\u001b[39m:\n\u001b[32m     13\u001b[39m     \u001b[38;5;28mprint\u001b[39m(\u001b[33m\"\u001b[39m\u001b[33m¡Empate!\u001b[39m\u001b[33m\"\u001b[39m)\n",
      "\u001b[31mNameError\u001b[39m: name 'determinar_ganador' is not defined"
     ]
    }
   ],
   "source": [
    "# Bucle 'while' para llevar registro de los puntos de cada jugador y continuar el juego hasta que se alcance el número de puntos objetivo.\n",
    "while puntos_jugador < puntos_objetivo and puntos_computadora < puntos_objetivo: \n",
    "    print(f\"Puntos - Tú: {puntos_jugador} | Computadora: {puntos_computadora}\")\n",
    "\n",
    "    jugador = obtener_eleccion_jugador()  # Elección del jugador\n",
    "    computadora = random.choice([\"piedra\", \"papel\", \"tijera\"])  # 4. Elección aleatoria\n",
    "\n",
    "    print(f\"Tú elegiste: {jugador.capitalize()} | Computadora eligió: {computadora.capitalize()}\")\n",
    "\n",
    "    resultado = determinar_ganador(jugador, computadora)\n",
    "\n",
    "    if resultado == \"empate\":\n",
    "        print(\"¡Empate!\")\n",
    "    elif resultado == \"jugador\":\n",
    "        print(\"¡Eres el ganador de esta ronda!\")\n",
    "        puntos_jugador += 1\n",
    "    else:\n",
    "        print(\"La computadora gana esta ronda.\")\n",
    "        puntos_computadora += 1"
   ]
  }
 ],
 "metadata": {
  "kernelspec": {
   "display_name": ".conda",
   "language": "python",
   "name": "python3"
  },
  "language_info": {
   "codemirror_mode": {
    "name": "ipython",
    "version": 3
   },
   "file_extension": ".py",
   "mimetype": "text/x-python",
   "name": "python",
   "nbconvert_exporter": "python",
   "pygments_lexer": "ipython3",
   "version": "3.11.11"
  }
 },
 "nbformat": 4,
 "nbformat_minor": 5
}
