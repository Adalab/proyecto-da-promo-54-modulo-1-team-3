{
 "cells": [
  {
   "cell_type": "code",
   "execution_count": 30,
   "id": "7a73a383",
   "metadata": {},
   "outputs": [],
   "source": [
    "import random # módulo 'random' para crear más adelante la elección aleatoria para el segundo jugador (la computadora)"
   ]
  },
  {
   "cell_type": "code",
   "execution_count": 31,
   "id": "398e749e",
   "metadata": {},
   "outputs": [],
   "source": [
    "puntos_objetivo = 3 # Definimos cuántos puntos se necesitan para ganar"
   ]
  },
  {
   "cell_type": "code",
   "execution_count": 32,
   "id": "dbad5129",
   "metadata": {},
   "outputs": [],
   "source": [
    "def obtener_eleccion_jugador(): # Función para obtener y validar la elección del jugador\n",
    "    while True:\n",
    "        elección = input(\"Elige Piedra, Papel o Tijera: \").strip().lower()\n",
    "        if elección in ['piedra', 'papel', 'tijera']:\n",
    "            return elección\n",
    "        else:\n",
    "            print(\"Opción no válida. Intenta de nuevo.\")"
   ]
  },
  {
   "cell_type": "code",
   "execution_count": 33,
   "id": "a7ca70db",
   "metadata": {},
   "outputs": [],
   "source": [
    "# Función para determinar el ganador de una ronda\n",
    "def determinar_ganador(jugador, computadora):\n",
    "    if jugador == computadora:\n",
    "        return \"empate\"\n",
    "    elif (jugador == \"piedra\" and computadora == \"tijera\") or (jugador == \"papel\" and computadora == \"piedra\") or (jugador == \"tijera\" and computadora == \"papel\"):\n",
    "        return \"jugador\"\n",
    "    else:\n",
    "        return \"computadora\""
   ]
  },
  {
   "cell_type": "code",
   "execution_count": 34,
   "id": "01ad9655",
   "metadata": {},
   "outputs": [],
   "source": [
    "# Puntos iniciales de cada jugador\n",
    "puntos_jugador = 0\n",
    "puntos_computadora = 0"
   ]
  },
  {
   "cell_type": "code",
   "execution_count": 35,
   "id": "1e04c7e8",
   "metadata": {},
   "outputs": [
    {
     "name": "stdout",
     "output_type": "stream",
     "text": [
      "Puntos - Tú: 0 | Computadora: 0\n",
      "Tú elegiste: Papel | Computadora eligió: Piedra\n",
      "¡Eres el ganador de esta ronda!\n",
      "Puntos - Tú: 1 | Computadora: 0\n",
      "Opción no válida. Intenta de nuevo.\n",
      "Tú elegiste: Piedra | Computadora eligió: Tijera\n",
      "¡Eres el ganador de esta ronda!\n",
      "Puntos - Tú: 2 | Computadora: 0\n",
      "Tú elegiste: Tijera | Computadora eligió: Piedra\n",
      "La computadora gana esta ronda.\n",
      "Puntos - Tú: 2 | Computadora: 1\n",
      "Tú elegiste: Tijera | Computadora eligió: Tijera\n",
      "¡Empate!\n",
      "Puntos - Tú: 2 | Computadora: 1\n",
      "Tú elegiste: Papel | Computadora eligió: Papel\n",
      "¡Empate!\n",
      "Puntos - Tú: 2 | Computadora: 1\n",
      "Tú elegiste: Papel | Computadora eligió: Papel\n",
      "¡Empate!\n",
      "Puntos - Tú: 2 | Computadora: 1\n",
      "Tú elegiste: Piedra | Computadora eligió: Tijera\n",
      "¡Eres el ganador de esta ronda!\n",
      "Fin del juego\n",
      "¡Felicidades, eres el ganador del juego!\n"
     ]
    }
   ],
   "source": [
    "# Bucle 'while' para llevar registro de los puntos de cada jugador y continuar el juego hasta que se alcance el número de puntos objetivo.\n",
    "while puntos_jugador < puntos_objetivo and puntos_computadora < puntos_objetivo: \n",
    "    print(f\"Puntos - Tú: {puntos_jugador} | Computadora: {puntos_computadora}\")\n",
    "\n",
    "    jugador = obtener_eleccion_jugador()  # Elección del jugador\n",
    "    computadora = random.choice([\"piedra\", \"papel\", \"tijera\"])  # Elección aleatoria de la computadora\n",
    "\n",
    "    print(f\"Tú elegiste: {jugador.capitalize()} | Computadora eligió: {computadora.capitalize()}\")\n",
    "\n",
    "    resultado = determinar_ganador(jugador, computadora)\n",
    "\n",
    "    if resultado == \"empate\":\n",
    "        print(\"¡Empate!\")\n",
    "    elif resultado == \"jugador\":\n",
    "        print(\"¡Eres el ganador de esta ronda!\")\n",
    "        puntos_jugador += 1\n",
    "    else:\n",
    "        print(\"La computadora gana esta ronda.\")\n",
    "        puntos_computadora += 1\n",
    "\n",
    "# Finalizar el juego\n",
    "print(\"Fin del juego\")\n",
    "if puntos_jugador == puntos_objetivo:\n",
    "    print(\"¡Felicidades, eres el ganador del juego!\")\n",
    "else:\n",
    "    print(\"La computadora ha ganado el juego. ¡Suerte para la próxima!\")"
   ]
  }
 ],
 "metadata": {
  "kernelspec": {
   "display_name": ".conda",
   "language": "python",
   "name": "python3"
  },
  "language_info": {
   "codemirror_mode": {
    "name": "ipython",
    "version": 3
   },
   "file_extension": ".py",
   "mimetype": "text/x-python",
   "name": "python",
   "nbconvert_exporter": "python",
   "pygments_lexer": "ipython3",
   "version": "3.11.11"
  }
 },
 "nbformat": 4,
 "nbformat_minor": 5
}
