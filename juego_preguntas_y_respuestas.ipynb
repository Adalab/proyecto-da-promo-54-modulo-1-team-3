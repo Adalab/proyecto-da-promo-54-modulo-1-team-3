{
 "cells": [
  {
   "cell_type": "code",
   "execution_count": 26,
   "id": "171f95f5",
   "metadata": {},
   "outputs": [],
   "source": [
    "import random"
   ]
  },
  {
   "cell_type": "markdown",
   "id": "7a8513e6",
   "metadata": {},
   "source": [
    "Comienza creando un diccionario que contenga preguntas de geografía como claves y respuestas como valores."
   ]
  },
  {
   "cell_type": "code",
   "execution_count": 27,
   "id": "022989df",
   "metadata": {},
   "outputs": [],
   "source": [
    "preguntas = {\"1\": {\"Pregunta\": \"¿Cuál es el río más largo del mundo?\",\"Respuesta\": \"Nilo\"}, \n",
    "\"2\": {\"Pregunta\": \"¿Cuál es la montaña más alta del mundo?\", \"Respuesta\": \"Everest\"},\n",
    "\"3\": {\"Pregunta\": \"¿Cuál es el país más poblado del mundo\", \"Respuesta\": \"India\"},\n",
    "\"4\": {\"Pregunta\": \"¿Cuál es el país más extenso del mundo\", \"Respuesta\": \"Rusia\"},\n",
    "\"5\": {\"Pregunta\": \"¿Cuál es el país con más volcanos activos del mundo\", \"Respuesta\": \"Estados Unidos\"},\n",
    "\"6\": {\"Pregunta\": \"¿Cuál es el océano más grande del mundo\", \"Respuesta\": \"Pacífico\"},\n",
    "\"7\": {\"Pregunta\": \"¿Cuál es el país más pequeño del mundo\", \"Respuesta\": \"Ciudad del Vaticano\"},\n",
    "\"8\": {\"Pregunta\": \"¿Cuál es el país más turístico del mundo\", \"Respuesta\": \"Francia\"},\n",
    "\"9\": {\"Pregunta\": \"¿Cuál es el país con más islas del mundo?\", \"Respuesta\": \"Suecia\"},\n",
    "\"10\": {\"Pregunta\": \"¿Cuál es el continente más grande del mundo?\", \"Respuesta\": \"Asia\"}}\n",
    "\n",
    "\n"
   ]
  },
  {
   "cell_type": "code",
   "execution_count": 28,
   "id": "9c9dbbce",
   "metadata": {},
   "outputs": [
    {
     "data": {
      "text/plain": [
       "{'1': {'Pregunta': '¿Cuál es el río más largo del mundo?',\n",
       "  'Respuesta': 'Nilo'},\n",
       " '2': {'Pregunta': '¿Cuál es la montaña más alta del mundo?',\n",
       "  'Respuesta': 'Everest'},\n",
       " '3': {'Pregunta': '¿Cuál es el país más poblado del mundo',\n",
       "  'Respuesta': 'India'},\n",
       " '4': {'Pregunta': '¿Cuál es el país más extenso del mundo',\n",
       "  'Respuesta': 'Rusia'},\n",
       " '5': {'Pregunta': '¿Cuál es el país con más volcanos activos del mundo',\n",
       "  'Respuesta': 'Estados Unidos'},\n",
       " '6': {'Pregunta': '¿Cuál es el océano más grande del mundo',\n",
       "  'Respuesta': 'Pacífico'},\n",
       " '7': {'Pregunta': '¿Cuál es el país más pequeño del mundo',\n",
       "  'Respuesta': 'Ciudad del Vaticano'},\n",
       " '8': {'Pregunta': '¿Cuál es el país más turístico del mundo',\n",
       "  'Respuesta': 'Francia'},\n",
       " '9': {'Pregunta': '¿Cuál es el país con más islas del mundo?',\n",
       "  'Respuesta': 'Suecia'},\n",
       " '10': {'Pregunta': '¿Cuál es el continente más grande del mundo?',\n",
       "  'Respuesta': 'Asia'}}"
      ]
     },
     "execution_count": 28,
     "metadata": {},
     "output_type": "execute_result"
    }
   ],
   "source": [
    "preguntas"
   ]
  },
  {
   "cell_type": "markdown",
   "id": "2cc3f348",
   "metadata": {},
   "source": [
    "Implementa una función para seleccionar una pregunta aleatoria del diccionario."
   ]
  },
  {
   "cell_type": "code",
   "execution_count": 41,
   "id": "b42e3079",
   "metadata": {},
   "outputs": [],
   "source": [
    "def pregunta_aleatoria():\n",
    "    seleccionar_pregunta = random.choice(preguntas.keys())\n",
    "    print(seleccionar_pregunta)"
   ]
  },
  {
   "cell_type": "code",
   "execution_count": 40,
   "id": "1f405264",
   "metadata": {},
   "outputs": [
    {
     "ename": "TypeError",
     "evalue": "'dict_keys' object is not subscriptable",
     "output_type": "error",
     "traceback": [
      "\u001b[1;31m---------------------------------------------------------------------------\u001b[0m",
      "\u001b[1;31mTypeError\u001b[0m                                 Traceback (most recent call last)",
      "Cell \u001b[1;32mIn[40], line 1\u001b[0m\n\u001b[1;32m----> 1\u001b[0m pregunta_aleatoria()\n",
      "Cell \u001b[1;32mIn[39], line 2\u001b[0m, in \u001b[0;36mpregunta_aleatoria\u001b[1;34m()\u001b[0m\n\u001b[0;32m      1\u001b[0m \u001b[38;5;28;01mdef\u001b[39;00m \u001b[38;5;21mpregunta_aleatoria\u001b[39m():\n\u001b[1;32m----> 2\u001b[0m     seleccionar_pregunta \u001b[38;5;241m=\u001b[39m random\u001b[38;5;241m.\u001b[39mchoice(preguntas\u001b[38;5;241m.\u001b[39mkeys())\n",
      "File \u001b[1;32mc:\\Users\\aniet\\anaconda3\\Lib\\random.py:348\u001b[0m, in \u001b[0;36mRandom.choice\u001b[1;34m(self, seq)\u001b[0m\n\u001b[0;32m    346\u001b[0m \u001b[38;5;28;01mif\u001b[39;00m \u001b[38;5;129;01mnot\u001b[39;00m \u001b[38;5;28mlen\u001b[39m(seq):\n\u001b[0;32m    347\u001b[0m     \u001b[38;5;28;01mraise\u001b[39;00m \u001b[38;5;167;01mIndexError\u001b[39;00m(\u001b[38;5;124m'\u001b[39m\u001b[38;5;124mCannot choose from an empty sequence\u001b[39m\u001b[38;5;124m'\u001b[39m)\n\u001b[1;32m--> 348\u001b[0m \u001b[38;5;28;01mreturn\u001b[39;00m seq[\u001b[38;5;28mself\u001b[39m\u001b[38;5;241m.\u001b[39m_randbelow(\u001b[38;5;28mlen\u001b[39m(seq))]\n",
      "\u001b[1;31mTypeError\u001b[0m: 'dict_keys' object is not subscriptable"
     ]
    }
   ],
   "source": [
    "pregunta_aleatoria()"
   ]
  }
 ],
 "metadata": {
  "kernelspec": {
   "display_name": "base",
   "language": "python",
   "name": "python3"
  },
  "language_info": {
   "codemirror_mode": {
    "name": "ipython",
    "version": 3
   },
   "file_extension": ".py",
   "mimetype": "text/x-python",
   "name": "python",
   "nbconvert_exporter": "python",
   "pygments_lexer": "ipython3",
   "version": "3.12.9"
  }
 },
 "nbformat": 4,
 "nbformat_minor": 5
}
