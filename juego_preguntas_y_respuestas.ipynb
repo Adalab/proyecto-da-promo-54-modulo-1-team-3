{
 "cells": [
  {
   "cell_type": "code",
   "execution_count": 1,
   "id": "171f95f5",
   "metadata": {},
   "outputs": [],
   "source": [
    "import random"
   ]
  },
  {
   "cell_type": "markdown",
   "id": "7a8513e6",
   "metadata": {},
   "source": [
    "Comienza creando un diccionario que contenga preguntas de geografía como claves y respuestas como valores."
   ]
  },
  {
   "cell_type": "code",
   "execution_count": 2,
   "id": "022989df",
   "metadata": {},
   "outputs": [],
   "source": [
    "preguntas = {\n",
    "\"¿Cuál es el río más largo del mundo?\": {\"Respuesta\": \"NILO\"},\n",
    "\"¿Cuál es la montaña más alta del mundo?\": {\"Respuesta\": \"EVEREST\"},\n",
    "\"¿Cuál es el país más poblado del mundo?\": {\"Respuesta\": \"INDIA\"},\n",
    "\"¿Cuál es el país más extenso del mundo\": {\"Respuesta\": \"RUSIA\"},\n",
    "\"¿Cuál es el país con más volcanos activos del mundo\": {\"Respuesta\": \"ESTADOS UNIDOS\"},\n",
    "\"¿Cuál es el océano más grande del mundo\": {\"Respuesta\": \"PACIFICO\"},\n",
    "\"¿Cuál es el país más pequeño del mundo\": {\"Respuesta\": \"CIUDAD DEL VATICANO\"},\n",
    "\"¿Cuál es el país más turístico del mundo\": {\"Respuesta\": \"FRANCIA\"},\n",
    "\"¿Cuál es el país con más islas del mundo?\": {\"Respuesta\": \"SUECIA\"},\n",
    "\"¿Cuál es el continente más grande del mundo?\": {\"Respuesta\": \"ASIA\"}\n",
    "}\n",
    "#le quite los números para que la clave fuera la pregunta y pudiera traerla usando la función random"
   ]
  },
  {
   "cell_type": "code",
   "execution_count": 3,
   "id": "9c9dbbce",
   "metadata": {},
   "outputs": [
    {
     "data": {
      "text/plain": [
       "{'¿Cuál es el río más largo del mundo?': {'Respuesta': 'NILO'},\n",
       " '¿Cuál es la montaña más alta del mundo?': {'Respuesta': 'EVEREST'},\n",
       " '¿Cuál es el país más poblado del mundo?': {'Respuesta': 'INDIA'},\n",
       " '¿Cuál es el país más extenso del mundo': {'Respuesta': 'RUSIA'},\n",
       " '¿Cuál es el país con más volcanos activos del mundo': {'Respuesta': 'ESTADOS UNIDOS'},\n",
       " '¿Cuál es el océano más grande del mundo': {'Respuesta': 'PACIFICO'},\n",
       " '¿Cuál es el país más pequeño del mundo': {'Respuesta': 'CIUDAD DEL VATICANO'},\n",
       " '¿Cuál es el país más turístico del mundo': {'Respuesta': 'FRANCIA'},\n",
       " '¿Cuál es el país con más islas del mundo?': {'Respuesta': 'SUECIA'},\n",
       " '¿Cuál es el continente más grande del mundo?': {'Respuesta': 'ASIA'}}"
      ]
     },
     "execution_count": 3,
     "metadata": {},
     "output_type": "execute_result"
    }
   ],
   "source": [
    "preguntas"
   ]
  },
  {
   "cell_type": "markdown",
   "id": "2cc3f348",
   "metadata": {},
   "source": [
    "Implementa una función para seleccionar una pregunta aleatoria del diccionario."
   ]
  },
  {
   "cell_type": "code",
   "execution_count": null,
   "id": "b42e3079",
   "metadata": {},
   "outputs": [],
   "source": [
    "def pregunta_aleatoria():\n",
    "    seleccionar_pregunta = random.choice(list(preguntas.keys()))\n",
    "    respuesta = print(input(seleccionar_pregunta).upper()) \n",
    "    #le hace la pregunta aleatoria al usuario, error de indexación si no lo convierto en lista, las rptas. están en mayúsculas\n",
    "    return respuesta #guardar la respuesta en una variable\n",
    "    "
   ]
  },
  {
   "cell_type": "code",
   "execution_count": 5,
   "id": "1f405264",
   "metadata": {},
   "outputs": [
    {
     "name": "stdout",
     "output_type": "stream",
     "text": [
      "FFF\n"
     ]
    }
   ],
   "source": [
    "pregunta_aleatoria()"
   ]
  }
 ],
 "metadata": {
  "kernelspec": {
   "display_name": "base",
   "language": "python",
   "name": "python3"
  },
  "language_info": {
   "codemirror_mode": {
    "name": "ipython",
    "version": 3
   },
   "file_extension": ".py",
   "mimetype": "text/x-python",
   "name": "python",
   "nbconvert_exporter": "python",
   "pygments_lexer": "ipython3",
   "version": "3.12.9"
  }
 },
 "nbformat": 4,
 "nbformat_minor": 5
}
