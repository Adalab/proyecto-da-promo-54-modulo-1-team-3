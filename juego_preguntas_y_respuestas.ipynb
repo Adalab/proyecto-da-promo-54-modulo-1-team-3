{
 "cells": [
  {
   "cell_type": "code",
   "execution_count": 1,
   "id": "171f95f5",
   "metadata": {},
   "outputs": [],
   "source": [
    "import random"
   ]
  },
  {
   "cell_type": "markdown",
   "id": "7a8513e6",
   "metadata": {},
   "source": [
    "Comienza creando un diccionario que contenga preguntas de geografía como claves y respuestas como valores."
   ]
  },
  {
   "cell_type": "code",
   "execution_count": 2,
   "id": "022989df",
   "metadata": {},
   "outputs": [],
   "source": [
    "preguntas = {\n",
    "\"¿Cuál es el río más largo del mundo?\": {\"Respuesta\": \"Nilo\"},\n",
    "\"¿Cuál es la montaña más alta del mundo?\": {\"Respuesta\": \"Everest\"},\n",
    "\"¿Cuál es el país más poblado del mundo?\": {\"Respuesta\": \"India\"},\n",
    "\"¿Cuál es el país más extenso del mundo\": {\"Respuesta\": \"Rusia\"},\n",
    "\"¿Cuál es el país con más volcanos activos del mundo\": {\"Respuesta\": \"Estados Unidos\"},\n",
    "\"¿Cuál es el océano más grande del mundo\": {\"Respuesta\": \"Pacífico\"},\n",
    "\"¿Cuál es el país más pequeño del mundo\": {\"Respuesta\": \"Ciudad del Vaticano\"},\n",
    "\"¿Cuál es el país más turístico del mundo\": {\"Respuesta\": \"Francia\"},\n",
    "\"¿Cuál es el país con más islas del mundo?\": {\"Respuesta\": \"Suecia\"},\n",
    "\"¿Cuál es el continente más grande del mundo?\": {\"Respuesta\": \"Asia\"}\n",
    "}\n",
    "#le quite los números para que la clave fuera la pregunta y pudiera traerla usando la función random"
   ]
  },
  {
   "cell_type": "code",
   "execution_count": 3,
   "id": "9c9dbbce",
   "metadata": {},
   "outputs": [
    {
     "data": {
      "text/plain": [
       "{'¿Cuál es el río más largo del mundo?': {'Respuesta': 'Nilo'},\n",
       " '¿Cuál es la montaña más alta del mundo?': {'Respuesta': 'Everest'},\n",
       " '¿Cuál es el país más poblado del mundo?': {'Respuesta': 'India'},\n",
       " '¿Cuál es el país más extenso del mundo': {'Respuesta': 'Rusia'},\n",
       " '¿Cuál es el país con más volcanos activos del mundo': {'Respuesta': 'Estados Unidos'},\n",
       " '¿Cuál es el océano más grande del mundo': {'Respuesta': 'Pacífico'},\n",
       " '¿Cuál es el país más pequeño del mundo': {'Respuesta': 'Ciudad del Vaticano'},\n",
       " '¿Cuál es el país más turístico del mundo': {'Respuesta': 'Francia'},\n",
       " '¿Cuál es el país con más islas del mundo?': {'Respuesta': 'Suecia'},\n",
       " '¿Cuál es el continente más grande del mundo?': {'Respuesta': 'Asia'}}"
      ]
     },
     "execution_count": 3,
     "metadata": {},
     "output_type": "execute_result"
    }
   ],
   "source": [
    "preguntas"
   ]
  },
  {
   "cell_type": "markdown",
   "id": "2cc3f348",
   "metadata": {},
   "source": [
    "Implementa una función para seleccionar una pregunta aleatoria del diccionario."
   ]
  },
  {
   "cell_type": "code",
   "execution_count": 4,
   "id": "b42e3079",
   "metadata": {},
   "outputs": [
    {
     "ename": "IndentationError",
     "evalue": "unexpected indent (2992663394.py, line 5)",
     "output_type": "error",
     "traceback": [
      "\u001b[1;36m  Cell \u001b[1;32mIn[4], line 5\u001b[1;36m\u001b[0m\n\u001b[1;33m    if respuesta\u001b[0m\n\u001b[1;37m    ^\u001b[0m\n\u001b[1;31mIndentationError\u001b[0m\u001b[1;31m:\u001b[0m unexpected indent\n"
     ]
    }
   ],
   "source": [
    "def pregunta_aleatoria():\n",
    "    seleccionar_pregunta = random.choice(list(preguntas.keys()))\n",
    "    respuesta = print(input(seleccionar_pregunta).upper()) #le hace la pregunta aleatoria al usuario\n",
    "    return respuesta\n",
    "        if respuesta"
   ]
  },
  {
   "cell_type": "code",
   "execution_count": null,
   "id": "1f405264",
   "metadata": {},
   "outputs": [
    {
     "name": "stdout",
     "output_type": "stream",
     "text": [
      "FDD\n"
     ]
    }
   ],
   "source": [
    "pregunta_aleatoria()"
   ]
  },
  {
   "cell_type": "code",
   "execution_count": null,
   "id": "fa0fd82a",
   "metadata": {},
   "outputs": [],
   "source": []
  }
 ],
 "metadata": {
  "kernelspec": {
   "display_name": "base",
   "language": "python",
   "name": "python3"
  },
  "language_info": {
   "codemirror_mode": {
    "name": "ipython",
    "version": 3
   },
   "file_extension": ".py",
   "mimetype": "text/x-python",
   "name": "python",
   "nbconvert_exporter": "python",
   "pygments_lexer": "ipython3",
   "version": "3.12.9"
  }
 },
 "nbformat": 4,
 "nbformat_minor": 5
}
