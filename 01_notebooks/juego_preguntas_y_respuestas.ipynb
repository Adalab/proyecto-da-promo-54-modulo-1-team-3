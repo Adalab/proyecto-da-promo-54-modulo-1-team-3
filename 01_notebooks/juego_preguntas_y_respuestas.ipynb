{
 "cells": [
  {
   "cell_type": "code",
   "execution_count": 37,
   "id": "171f95f5",
   "metadata": {},
   "outputs": [],
   "source": [
    "import random"
   ]
  },
  {
   "cell_type": "markdown",
   "id": "7a8513e6",
   "metadata": {},
   "source": [
    "Comienza creando un diccionario que contenga preguntas de geografía como claves y respuestas como valores."
   ]
  },
  {
   "cell_type": "code",
   "execution_count": 38,
   "id": "022989df",
   "metadata": {},
   "outputs": [],
   "source": [
    "preguntas = {\n",
    "\"¿Cuál es el río más largo del mundo?\": {\"Respuesta\": \"NILO\"},\n",
    "\"¿Cuál es la montaña más alta del mundo?\": {\"Respuesta\": \"EVEREST\"},\n",
    "\"¿Cuál es el país más poblado del mundo?\": {\"Respuesta\": \"INDIA\"},\n",
    "\"¿Cuál es el país más extenso del mundo\": {\"Respuesta\": \"RUSIA\"},\n",
    "\"¿Cuál es el país con más volcanos activos del mundo\": {\"Respuesta\": \"ESTADOS UNIDOS\"},\n",
    "\"¿Cuál es el océano más grande del mundo\": {\"Respuesta\": \"PACIFICO\"},\n",
    "\"¿Cuál es el país más pequeño del mundo\": {\"Respuesta\": \"CIUDAD DEL VATICANO\"},\n",
    "\"¿Cuál es el país más turístico del mundo\": {\"Respuesta\": \"FRANCIA\"},\n",
    "\"¿Cuál es el país con más islas del mundo?\": {\"Respuesta\": \"SUECIA\"},\n",
    "\"¿Cuál es el continente más grande del mundo?\": {\"Respuesta\": \"ASIA\"}\n",
    "}\n",
    "#le quite los números para que la clave fuera la pregunta y pudiera traerla usando la función random"
   ]
  },
  {
   "cell_type": "code",
   "execution_count": 39,
   "id": "9c9dbbce",
   "metadata": {},
   "outputs": [
    {
     "data": {
      "text/plain": [
       "{'¿Cuál es el río más largo del mundo?': {'Respuesta': 'NILO'},\n",
       " '¿Cuál es la montaña más alta del mundo?': {'Respuesta': 'EVEREST'},\n",
       " '¿Cuál es el país más poblado del mundo?': {'Respuesta': 'INDIA'},\n",
       " '¿Cuál es el país más extenso del mundo': {'Respuesta': 'RUSIA'},\n",
       " '¿Cuál es el país con más volcanos activos del mundo': {'Respuesta': 'ESTADOS UNIDOS'},\n",
       " '¿Cuál es el océano más grande del mundo': {'Respuesta': 'PACIFICO'},\n",
       " '¿Cuál es el país más pequeño del mundo': {'Respuesta': 'CIUDAD DEL VATICANO'},\n",
       " '¿Cuál es el país más turístico del mundo': {'Respuesta': 'FRANCIA'},\n",
       " '¿Cuál es el país con más islas del mundo?': {'Respuesta': 'SUECIA'},\n",
       " '¿Cuál es el continente más grande del mundo?': {'Respuesta': 'ASIA'}}"
      ]
     },
     "execution_count": 39,
     "metadata": {},
     "output_type": "execute_result"
    }
   ],
   "source": [
    "preguntas"
   ]
  },
  {
   "cell_type": "markdown",
   "id": "2cc3f348",
   "metadata": {},
   "source": [
    "Implementa una función para seleccionar una pregunta aleatoria del diccionario."
   ]
  },
  {
   "cell_type": "code",
   "execution_count": 49,
   "id": "31c6e12b",
   "metadata": {},
   "outputs": [],
   "source": [
    "def juego_preguntas_y_respuestas(preguntas_dict):\n",
    "    correctas = 0\n",
    "    incorrectas = 0\n",
    "    hechas = 0\n",
    "  \n",
    "#mientras no tenga 5 aciertos ni 3 errores seguimos jugando.\n",
    "    while correctas < 5 and incorrectas < 3:\n",
    "        pregunta = random.choice(list(preguntas_dict.keys()))\n",
    "        hechas += 1\n",
    "        respuesta_correcta = preguntas_dict[pregunta][\"Respuesta\"]\n",
    "        \n",
    "        intentos = 0\n",
    "        acertada = False\n",
    "\n",
    "        while intentos < 3 and not acertada:\n",
    "            intentos += 1\n",
    "            respuesta = input(f\"Pregunta {hechas}: {pregunta} (Intento {intentos}/3.): \").strip().upper()\n",
    "            \n",
    "            if respuesta == respuesta_correcta:\n",
    "                print(\"Correcto\")\n",
    "                correctas += 1\n",
    "                acertada = True\n",
    "            else:\n",
    "                print(\"Incorrecto\")\n",
    "                if intentos < 3:\n",
    "                    print(\"Inténtalo de nuevo\")\n",
    "                else:\n",
    "                    print(f\"La respuesta correcta era: {respuesta_correcta}\")\n",
    "        if not acertada:\n",
    "            incorrectas += 1\n",
    "            \n",
    "        print(f\"Contador: correctas {correctas}, incorrectas {incorrectas}\")\n",
    "\n",
    "    # Comprobamos condición de victoria o derrota\n",
    "    if correctas >= 5:\n",
    "        print(\"¡Felicidades! Has ganado respondiendo 5 preguntas correctamente.\")\n",
    "    else:\n",
    "        print(\"Juego terminado. Has cometido 3 errores. ¡Más suerte la próxima vez!\") "
   ]
  },
  {
   "cell_type": "code",
   "execution_count": 50,
   "id": "3bed2f4f",
   "metadata": {},
   "outputs": [
    {
     "name": "stdout",
     "output_type": "stream",
     "text": [
      "Correcto\n",
      "Contador: correctas 1, incorrectas 0\n",
      "Correcto\n",
      "Contador: correctas 2, incorrectas 0\n",
      "Correcto\n",
      "Contador: correctas 3, incorrectas 0\n",
      "Incorrecto\n",
      "Inténtalo de nuevo\n",
      "Correcto\n",
      "Contador: correctas 4, incorrectas 0\n",
      "Incorrecto\n",
      "Inténtalo de nuevo\n",
      "Incorrecto\n",
      "Inténtalo de nuevo\n",
      "Incorrecto\n",
      "La respuesta correcta era: CIUDAD DEL VATICANO\n",
      "Contador: correctas 4, incorrectas 1\n",
      "Correcto\n",
      "Contador: correctas 5, incorrectas 1\n",
      "¡Felicidades! Has ganado respondiendo 5 preguntas correctamente.\n"
     ]
    }
   ],
   "source": [
    "juego_preguntas_y_respuestas(preguntas)"
   ]
  }
 ],
 "metadata": {
  "kernelspec": {
   "display_name": "base",
   "language": "python",
   "name": "python3"
  },
  "language_info": {
   "codemirror_mode": {
    "name": "ipython",
    "version": 3
   },
   "file_extension": ".py",
   "mimetype": "text/x-python",
   "name": "python",
   "nbconvert_exporter": "python",
   "pygments_lexer": "ipython3",
   "version": "3.12.9"
  }
 },
 "nbformat": 4,
 "nbformat_minor": 5
}
