{
 "cells": [
  {
   "cell_type": "code",
   "execution_count": 7,
   "id": "d309ad06",
   "metadata": {},
   "outputs": [],
   "source": [
    "##ELIMINAR\n",
    "\n",
    "# # llevar el score\n",
    "# palabra_secreta = ['data', 'gato', 'dato', 'playa', 'algoritmo', 'videojuego']\n",
    "# max_errores = 6\n",
    "# letras_usadas = []\n",
    "# errores = 0\n",
    "\n",
    "# def mostrar_estado_juego(tablero, letras_usadas, errores, max_errores, dibujo_ahorcado):\n",
    "#     print(dibujo_ahorcado[errores])\n",
    "#     print(\"Palabra:\", \" \".join(tablero))\n",
    "#     print(\"Letras usadas:\", \", \".join(letras_usadas))\n",
    "#     print(f\"Errores: {errores} de {max_errores}\")\n",
    "#     print()"
   ]
  },
  {
   "cell_type": "code",
   "execution_count": 8,
   "id": "10e2bbc8",
   "metadata": {},
   "outputs": [],
   "source": [
    "##ELIMINAR\n",
    "\n",
    "# actualizar el tablero\n",
    "\n",
    "# def actualizar_tablero(tablero, palabra, letra):\n",
    "#     for indice, letra_palabra in enumerate(palabra):\n",
    "#         if letra_palabra == letra:\n",
    "#             tablero[indice] = letra"
   ]
  },
  {
   "cell_type": "code",
   "execution_count": 25,
   "id": "2071bb34",
   "metadata": {},
   "outputs": [],
   "source": [
    "import random # empezamos importanto la libreria 'random'\n",
    "\n",
    "dibujo_ahorcado = ['''\n",
    "      +---+\n",
    "      |   |\n",
    "          |\n",
    "          |\n",
    "          |\n",
    "          |\n",
    "    ---------''', '''\n",
    "      +---+\n",
    "      |   |\n",
    "      O   |\n",
    "          |\n",
    "          |\n",
    "          |\n",
    "    ---------''', '''\n",
    "      +---+\n",
    "      |   |\n",
    "      O   |\n",
    "      |   |\n",
    "          |\n",
    "          |\n",
    "    ---------''', '''\n",
    "      +---+\n",
    "      |   |\n",
    "      O   |\n",
    "     -|   |\n",
    "          |\n",
    "          |\n",
    "    ---------''', '''\n",
    "      +---+\n",
    "      |   |\n",
    "      O   |\n",
    "     -|-  |\n",
    "          |\n",
    "          |\n",
    "    ---------''', '''\n",
    "      +---+\n",
    "      |   |\n",
    "      O   |\n",
    "     -|-  |\n",
    "     -    |\n",
    "          |\n",
    "    ---------''', '''\n",
    "      +---+\n",
    "      |   |\n",
    "      O   |\n",
    "     -|-  |\n",
    "     - -  |\n",
    "          |\n",
    "    ---------'''] # Paola: escapar las diagonales\n",
    "palabra_secreta = ['data', 'gato', 'dato', 'playa', 'algoritmo', 'video']\n",
    "max_errores = 6\n",
    "\n",
    "def el_ahorcado():\n",
    "    palabra = random.choice(palabra_secreta).lower()\n",
    "    tablero = ['_'] * len(palabra)\n",
    "    letras_usadas = []\n",
    "    errores = 0\n",
    "    \n",
    "    def mostrar_estado_juego(tablero, letras_usadas, errores, max_errores, dibujo_ahorcado):\n",
    "        print(dibujo_ahorcado[errores])\n",
    "        print(\"Palabra:\", \" \".join(tablero))\n",
    "        print(\"Letras usadas:\", \", \".join(letras_usadas))\n",
    "        print(f\"Errores: {errores} de {max_errores}\")\n",
    "        \n",
    "    def actualizar_tablero(letra):\n",
    "        for indice, letra_palabra in enumerate(palabra):\n",
    "            if letra_palabra == letra:\n",
    "                tablero[indice] = letra\n",
    "\n",
    "    while errores <= max_errores and '_' in tablero:\n",
    "        mostrar_estado_juego(tablero, letras_usadas, errores, max_errores, dibujo_ahorcado)  # Muestra estado actual\n",
    "        letra = input(\"Elige una letra: \").lower()  # Pedir letra y pasar a minúscula\n",
    "        \n",
    "        if ('a' <= letra <= 'z' and len(letra) == 1 and letra in letras_usadas):\n",
    "            print(\"Consejo: debes elegir solo una letra entre a y z que no hayas usado antes.\")\n",
    "            continue  \n",
    "\n",
    "        letras_usadas.append(letra)  # Guardar la letra usada\n",
    "\n",
    "        if letra in palabra:\n",
    "            actualizar_tablero(letra) # Actualizar el tablero reemplazando '_' por la letra en las posiciones correctas\n",
    "            continue\n",
    "\n",
    "        else:\n",
    "            errores += 1  # Sumar error si la letra no está en la palabra\n",
    "        \n",
    "    if '_' not in tablero: # Fuera del while, determinar si ganaste o perdiste\n",
    "        print(\"¡Felicidades, ganaste!\")\n",
    "    else:\n",
    "        print(\"Perdiste. La palabra era:\", palabra)\n",
    "\n",
    "# si la letra está en la palabra y ya usada el numero de veces que existe, entonces cuentalo como error \n",
    "        "
   ]
  },
  {
   "cell_type": "code",
   "execution_count": 26,
   "id": "16493f61",
   "metadata": {},
   "outputs": [
    {
     "name": "stdout",
     "output_type": "stream",
     "text": [
      "\n",
      "      +---+\n",
      "      |   |\n",
      "          |\n",
      "          |\n",
      "          |\n",
      "          |\n",
      "    ---------\n",
      "Palabra: _ _ _ _\n",
      "Letras usadas: \n",
      "Errores: 0 de 6\n",
      "\n",
      "      +---+\n",
      "      |   |\n",
      "          |\n",
      "          |\n",
      "          |\n",
      "          |\n",
      "    ---------\n",
      "Palabra: _ a _ a\n",
      "Letras usadas: a\n",
      "Errores: 0 de 6\n",
      "\n",
      "      +---+\n",
      "      |   |\n",
      "          |\n",
      "          |\n",
      "          |\n",
      "          |\n",
      "    ---------\n",
      "Palabra: d a _ a\n",
      "Letras usadas: a, d\n",
      "Errores: 0 de 6\n",
      "Consejo: debes elegir solo una letra entre a y z que no hayas usado antes.\n",
      "\n",
      "      +---+\n",
      "      |   |\n",
      "          |\n",
      "          |\n",
      "          |\n",
      "          |\n",
      "    ---------\n",
      "Palabra: d a _ a\n",
      "Letras usadas: a, d\n",
      "Errores: 0 de 6\n",
      "Consejo: debes elegir solo una letra entre a y z que no hayas usado antes.\n",
      "\n",
      "      +---+\n",
      "      |   |\n",
      "          |\n",
      "          |\n",
      "          |\n",
      "          |\n",
      "    ---------\n",
      "Palabra: d a _ a\n",
      "Letras usadas: a, d\n",
      "Errores: 0 de 6\n",
      "\n",
      "      +---+\n",
      "      |   |\n",
      "          |\n",
      "          |\n",
      "          |\n",
      "          |\n",
      "    ---------\n",
      "Palabra: d a _ a\n",
      "Letras usadas: a, d, \n",
      "Errores: 0 de 6\n"
     ]
    },
    {
     "ename": "KeyboardInterrupt",
     "evalue": "Interrupted by user",
     "output_type": "error",
     "traceback": [
      "\u001b[1;31m---------------------------------------------------------------------------\u001b[0m",
      "\u001b[1;31mKeyboardInterrupt\u001b[0m                         Traceback (most recent call last)",
      "Cell \u001b[1;32mIn[26], line 1\u001b[0m\n\u001b[1;32m----> 1\u001b[0m el_ahorcado()\n",
      "Cell \u001b[1;32mIn[25], line 75\u001b[0m, in \u001b[0;36mel_ahorcado\u001b[1;34m()\u001b[0m\n\u001b[0;32m     73\u001b[0m \u001b[38;5;28;01mwhile\u001b[39;00m errores \u001b[38;5;241m<\u001b[39m\u001b[38;5;241m=\u001b[39m max_errores \u001b[38;5;129;01mand\u001b[39;00m \u001b[38;5;124m'\u001b[39m\u001b[38;5;124m_\u001b[39m\u001b[38;5;124m'\u001b[39m \u001b[38;5;129;01min\u001b[39;00m tablero:\n\u001b[0;32m     74\u001b[0m     mostrar_estado_juego(tablero, letras_usadas, errores, max_errores, dibujo_ahorcado)  \u001b[38;5;66;03m# Muestra estado actual\u001b[39;00m\n\u001b[1;32m---> 75\u001b[0m     letra \u001b[38;5;241m=\u001b[39m \u001b[38;5;28minput\u001b[39m(\u001b[38;5;124m\"\u001b[39m\u001b[38;5;124mElige una letra: \u001b[39m\u001b[38;5;124m\"\u001b[39m)\u001b[38;5;241m.\u001b[39mlower()  \u001b[38;5;66;03m# Pedir letra y pasar a minúscula\u001b[39;00m\n\u001b[0;32m     77\u001b[0m     \u001b[38;5;28;01mif\u001b[39;00m (\u001b[38;5;124m'\u001b[39m\u001b[38;5;124ma\u001b[39m\u001b[38;5;124m'\u001b[39m \u001b[38;5;241m<\u001b[39m\u001b[38;5;241m=\u001b[39m letra \u001b[38;5;241m<\u001b[39m\u001b[38;5;241m=\u001b[39m \u001b[38;5;124m'\u001b[39m\u001b[38;5;124mz\u001b[39m\u001b[38;5;124m'\u001b[39m \u001b[38;5;129;01mand\u001b[39;00m \u001b[38;5;28mlen\u001b[39m(letra) \u001b[38;5;241m==\u001b[39m \u001b[38;5;241m1\u001b[39m \u001b[38;5;129;01mand\u001b[39;00m letra \u001b[38;5;129;01min\u001b[39;00m letras_usadas):\n\u001b[0;32m     78\u001b[0m         \u001b[38;5;28mprint\u001b[39m(\u001b[38;5;124m\"\u001b[39m\u001b[38;5;124mConsejo: debes elegir solo una letra entre a y z que no hayas usado antes.\u001b[39m\u001b[38;5;124m\"\u001b[39m)\n",
      "File \u001b[1;32mc:\\Users\\maryl\\anaconda3\\Lib\\site-packages\\ipykernel\\kernelbase.py:1262\u001b[0m, in \u001b[0;36mKernel.raw_input\u001b[1;34m(self, prompt)\u001b[0m\n\u001b[0;32m   1260\u001b[0m     msg \u001b[38;5;241m=\u001b[39m \u001b[38;5;124m\"\u001b[39m\u001b[38;5;124mraw_input was called, but this frontend does not support input requests.\u001b[39m\u001b[38;5;124m\"\u001b[39m\n\u001b[0;32m   1261\u001b[0m     \u001b[38;5;28;01mraise\u001b[39;00m StdinNotImplementedError(msg)\n\u001b[1;32m-> 1262\u001b[0m \u001b[38;5;28;01mreturn\u001b[39;00m \u001b[38;5;28mself\u001b[39m\u001b[38;5;241m.\u001b[39m_input_request(\n\u001b[0;32m   1263\u001b[0m     \u001b[38;5;28mstr\u001b[39m(prompt),\n\u001b[0;32m   1264\u001b[0m     \u001b[38;5;28mself\u001b[39m\u001b[38;5;241m.\u001b[39m_parent_ident[\u001b[38;5;124m\"\u001b[39m\u001b[38;5;124mshell\u001b[39m\u001b[38;5;124m\"\u001b[39m],\n\u001b[0;32m   1265\u001b[0m     \u001b[38;5;28mself\u001b[39m\u001b[38;5;241m.\u001b[39mget_parent(\u001b[38;5;124m\"\u001b[39m\u001b[38;5;124mshell\u001b[39m\u001b[38;5;124m\"\u001b[39m),\n\u001b[0;32m   1266\u001b[0m     password\u001b[38;5;241m=\u001b[39m\u001b[38;5;28;01mFalse\u001b[39;00m,\n\u001b[0;32m   1267\u001b[0m )\n",
      "File \u001b[1;32mc:\\Users\\maryl\\anaconda3\\Lib\\site-packages\\ipykernel\\kernelbase.py:1305\u001b[0m, in \u001b[0;36mKernel._input_request\u001b[1;34m(self, prompt, ident, parent, password)\u001b[0m\n\u001b[0;32m   1302\u001b[0m \u001b[38;5;28;01mexcept\u001b[39;00m \u001b[38;5;167;01mKeyboardInterrupt\u001b[39;00m:\n\u001b[0;32m   1303\u001b[0m     \u001b[38;5;66;03m# re-raise KeyboardInterrupt, to truncate traceback\u001b[39;00m\n\u001b[0;32m   1304\u001b[0m     msg \u001b[38;5;241m=\u001b[39m \u001b[38;5;124m\"\u001b[39m\u001b[38;5;124mInterrupted by user\u001b[39m\u001b[38;5;124m\"\u001b[39m\n\u001b[1;32m-> 1305\u001b[0m     \u001b[38;5;28;01mraise\u001b[39;00m \u001b[38;5;167;01mKeyboardInterrupt\u001b[39;00m(msg) \u001b[38;5;28;01mfrom\u001b[39;00m \u001b[38;5;28;01mNone\u001b[39;00m\n\u001b[0;32m   1306\u001b[0m \u001b[38;5;28;01mexcept\u001b[39;00m \u001b[38;5;167;01mException\u001b[39;00m:\n\u001b[0;32m   1307\u001b[0m     \u001b[38;5;28mself\u001b[39m\u001b[38;5;241m.\u001b[39mlog\u001b[38;5;241m.\u001b[39mwarning(\u001b[38;5;124m\"\u001b[39m\u001b[38;5;124mInvalid Message:\u001b[39m\u001b[38;5;124m\"\u001b[39m, exc_info\u001b[38;5;241m=\u001b[39m\u001b[38;5;28;01mTrue\u001b[39;00m)\n",
      "\u001b[1;31mKeyboardInterrupt\u001b[0m: Interrupted by user"
     ]
    }
   ],
   "source": [
    "el_ahorcado()"
   ]
  },
  {
   "cell_type": "code",
   "execution_count": 11,
   "id": "7b12eab4",
   "metadata": {},
   "outputs": [
    {
     "data": {
      "text/plain": [
       "True"
      ]
     },
     "execution_count": 11,
     "metadata": {},
     "output_type": "execute_result"
    }
   ],
   "source": [
    "letra = \"a\"\n",
    "letras_usadas = \"a\"\n",
    "\n",
    "'a' <= letra <= 'z'"
   ]
  },
  {
   "cell_type": "code",
   "execution_count": 12,
   "id": "48aed307",
   "metadata": {},
   "outputs": [
    {
     "data": {
      "text/plain": [
       "True"
      ]
     },
     "execution_count": 12,
     "metadata": {},
     "output_type": "execute_result"
    }
   ],
   "source": [
    "letra = \"a\"\n",
    "letras_usadas = \"a\"\n",
    "\n",
    "len(letra) ==1"
   ]
  },
  {
   "cell_type": "code",
   "execution_count": 13,
   "id": "1ed2257a",
   "metadata": {},
   "outputs": [
    {
     "data": {
      "text/plain": [
       "True"
      ]
     },
     "execution_count": 13,
     "metadata": {},
     "output_type": "execute_result"
    }
   ],
   "source": [
    "letra = \"a\"\n",
    "letras_usadas = \"a\"\n",
    "\n",
    "letra in letras_usadas"
   ]
  }
 ],
 "metadata": {
  "kernelspec": {
   "display_name": "base",
   "language": "python",
   "name": "python3"
  },
  "language_info": {
   "codemirror_mode": {
    "name": "ipython",
    "version": 3
   },
   "file_extension": ".py",
   "mimetype": "text/x-python",
   "name": "python",
   "nbconvert_exporter": "python",
   "pygments_lexer": "ipython3",
   "version": "3.12.7"
  }
 },
 "nbformat": 4,
 "nbformat_minor": 5
}
